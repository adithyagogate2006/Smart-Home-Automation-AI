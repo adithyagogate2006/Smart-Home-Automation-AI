{
 "cells": [
  {
   "cell_type": "markdown",
   "id": "c5aab642",
   "metadata": {},
   "source": [
    "\n",
    "# Smart Home Automation using AI\n",
    "\n",
    "**Internship Project by Adithya Gogate**  \n",

   
    "**Email:** adityagogate2006@gmail.com\n"
   ]
  },
  {
   "cell_type": "markdown",
   "id": "cb04a7ad",
   "metadata": {},
   "source": [
    "\n",
    "## 🎯 Objective\n",
    "\n",
    "Develop an AI-based simulation to automate home appliances like lights and fans using Python, based on inputs such as time, temperature, and human presence.\n"
   ]
  },
  {
   "cell_type": "markdown",
   "id": "38bc3ec0",
   "metadata": {},
   "source": [
    "\n",
    "## 💡 Light Control Logic\n"
   ]
  },
  {
   "cell_type": "code",
   "execution_count": null,
   "id": "ad09d897",
   "metadata": {},
   "outputs": [],
   "source": [
    "\n",
    "import datetime\n",
    "\n",
    "def smart_light_control(current_time, is_person_home):\n",
    "    hour = current_time.hour\n",
    "    if 18 <= hour < 23 and is_person_home:\n",
    "        return \"Lights ON\"\n",
    "    else:\n",
    "        return \"Lights OFF\"\n",
    "\n",
    "now = datetime.datetime.now()\n",
    "presence = True\n",
    "light_status = smart_light_control(now, presence)\n",
    "\n",
    "print(\"Current Time:\", now.strftime(\"%H:%M:%S\"))\n",
    "print(\"AI Light Decision:\", light_status)\n"
   ]
  },
  {
   "cell_type": "markdown",
   "id": "e14d23db",
   "metadata": {},
   "source": [
    "\n",
    "## 🌬️ Fan Control Logic\n"
   ]
  },
  {
   "cell_type": "code",
   "execution_count": null,
   "id": "d8f6053c",
   "metadata": {},
   "outputs": [],
   "source": [
    "\n",
    "def smart_fan_control(temperature):\n",
    "    if temperature > 30:\n",
    "        return \"Fan ON\"\n",
    "    else:\n",
    "        return \"Fan OFF\"\n",
    "\n",
    "temperature = 34  # Example temperature in Celsius\n",
    "fan_status = smart_fan_control(temperature)\n",
    "\n",
    "print(\"Temperature:\", temperature)\n",
    "print(\"Fan Decision:\", fan_status)\n"
   ]
  },
  {
   "cell_type": "markdown",
   "id": "25b1e63a",
   "metadata": {},
   "source": [
    "\n",
    "## 🧪 Output Explanation\n",
    "\n",
    "- **Lights**: The system checks the current time and presence status to decide whether to turn the lights ON or OFF.\n",
    "- **Fan**: The system checks the current temperature to decide whether to turn the fan ON or OFF.\n"
   ]
  },
  {
   "cell_type": "markdown",
   "id": "482a2658",
   "metadata": {},
   "source": [
    "\n",
    "## ✅ Conclusion\n",
    "\n",
    "This simulation demonstrates the application of AI in automating home appliances, enhancing convenience and promoting energy efficiency. The project provided hands-on experience with Python programming and project structuring using Google Colab and GitHub.\n"
   ]
  }
 ],
 "metadata": {},
 "nbformat": 4,
 "nbformat_minor": 5
}
